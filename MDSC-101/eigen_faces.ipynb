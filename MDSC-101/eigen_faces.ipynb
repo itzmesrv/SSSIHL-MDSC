{
 "cells": [
  {
   "cell_type": "code",
   "execution_count": 1,
   "metadata": {},
   "outputs": [],
   "source": [
    "import numpy as np\n",
    "from PIL import Image\n",
    "import glob"
   ]
  },
  {
   "cell_type": "code",
   "execution_count": 2,
   "metadata": {},
   "outputs": [],
   "source": [
    "folder = glob.glob(\"E:/Siva/SSSIHL/MSc Data Science/1st Sem/101 Lab/faces 64-64/*.jpg\")\n",
    "folder = [file.replace('\\\\', '/') for file in folder]"
   ]
  },
  {
   "cell_type": "code",
   "execution_count": 3,
   "metadata": {},
   "outputs": [],
   "source": [
    "matrix  = []\n",
    "m_x = 0\n",
    "m_y = 0\n",
    "\n",
    "for file in folder:\n",
    "    image = Image.open(file)\n",
    "    image = image.convert('L')\n",
    "    image_vector = np.array(image)\n",
    "    matrix.append(np.array([image_vector.T.ravel()]).T)"
   ]
  },
  {
   "cell_type": "code",
   "execution_count": 4,
   "metadata": {},
   "outputs": [
    {
     "data": {
      "text/plain": [
       "(4096, 1)"
      ]
     },
     "execution_count": 4,
     "metadata": {},
     "output_type": "execute_result"
    }
   ],
   "source": [
    "matrix[0].shape"
   ]
  },
  {
   "cell_type": "code",
   "execution_count": 5,
   "metadata": {},
   "outputs": [],
   "source": [
    "f_matrix = np.column_stack(matrix)\n",
    "rows, columns = f_matrix.shape\n",
    "\n",
    "mean_array = np.zeros_like(matrix[0])\n",
    "for pic in matrix:\n",
    "    mean_array += pic\n",
    "\n",
    "mean_array = mean_array/columns\n",
    "mean_array_list = [mean_array for i in range(columns)]\n",
    "\n",
    "mean_mat = np.column_stack(mean_array_list)"
   ]
  },
  {
   "cell_type": "code",
   "execution_count": 6,
   "metadata": {},
   "outputs": [
    {
     "data": {
      "text/plain": [
       "(4096, 4096)"
      ]
     },
     "execution_count": 6,
     "metadata": {},
     "output_type": "execute_result"
    }
   ],
   "source": [
    "R = ((f_matrix - mean_mat) @ (f_matrix - mean_mat).T) / (columns-1)\n",
    "eigenvalues, eigenvectors = np.linalg.eig(R)\n",
    "sorted_eigenvalues = eigenvalues.argsort()\n",
    "eigenvectors.shape"
   ]
  },
  {
   "cell_type": "code",
   "execution_count": 7,
   "metadata": {},
   "outputs": [],
   "source": [
    "p = 100\n",
    "\n",
    "vectorList = []\n",
    "\n",
    "for i in range(p):\n",
    "    vector = eigenvectors[:, sorted_eigenvalues[i]]\n",
    "    vectorList.append(vector)"
   ]
  },
  {
   "cell_type": "code",
   "execution_count": 8,
   "metadata": {},
   "outputs": [],
   "source": [
    "V = np.column_stack(vectorList)"
   ]
  },
  {
   "cell_type": "code",
   "execution_count": 9,
   "metadata": {},
   "outputs": [],
   "source": [
    "sub_matrix = f_matrix - mean_mat"
   ]
  },
  {
   "cell_type": "code",
   "execution_count": 10,
   "metadata": {},
   "outputs": [],
   "source": [
    "weight_list = []\n",
    "for i in range(sub_matrix.shape[1]):\n",
    "    weight = V.T @ sub_matrix[:,i]\n",
    "    weight_list.append(weight)"
   ]
  },
  {
   "cell_type": "code",
   "execution_count": 11,
   "metadata": {},
   "outputs": [
    {
     "data": {
      "image/png": "[encoded data removed]",
      "text/plain": [
       "<PIL.Image.Image image mode=L size=64x64>"
      ]
     },
     "execution_count": 11,
     "metadata": {},
     "output_type": "execute_result"
    }
   ],
   "source": [
    "image = Image.open('E:/Siva/SSSIHL/MSc Data Science/1st Sem/101 Lab/faces 64-64/pic00043.jpg')\n",
    "image = image.convert('L')\n",
    "image_vector = np.array(image)\n",
    "image_vector = np.array([image_vector.T.ravel()]).T\n",
    "image"
   ]
  },
  {
   "cell_type": "code",
   "execution_count": 12,
   "metadata": {},
   "outputs": [],
   "source": [
    "new_weight = V.T @ image_vector"
   ]
  },
  {
   "cell_type": "code",
   "execution_count": 13,
   "metadata": {},
   "outputs": [],
   "source": [
    "distance_list = []\n",
    "\n",
    "for weight in weight_list:\n",
    "    distance = np.linalg.norm(new_weight - weight)\n",
    "    distance_list.append(distance)"
   ]
  },
  {
   "cell_type": "code",
   "execution_count": 14,
   "metadata": {},
   "outputs": [],
   "source": [
    "distance_vector = np.array(distance_list)\n",
    "top = distance_vector.argsort()[:10]"
   ]
  },
  {
   "cell_type": "code",
   "execution_count": 15,
   "metadata": {},
   "outputs": [],
   "source": [
    "display_list = []\n",
    "for t in top:\n",
    "    image = Image.open(folder[t])\n",
    "    image = image.convert('L')\n",
    "    display_list.append(image)"
   ]
  },
  {
   "cell_type": "code",
   "execution_count": 16,
   "metadata": {},
   "outputs": [
    {
     "data": {
      "image/png": "[encoded data removed]",
      "text/plain": [
       "<PIL.Image.Image image mode=L size=64x64>"
      ]
     },
     "execution_count": 16,
     "metadata": {},
     "output_type": "execute_result"
    }
   ],
   "source": [
    "display_list[0]"
   ]
  }
 ],
 "metadata": {
  "kernelspec": {
   "display_name": "base",
   "language": "python",
   "name": "python3"
  },
  "language_info": {
   "codemirror_mode": {
    "name": "ipython",
    "version": 3
   },
   "file_extension": ".py",
   "mimetype": "text/x-python",
   "name": "python",
   "nbconvert_exporter": "python",
   "pygments_lexer": "ipython3",
   "version": "3.10.13"
  }
 },
 "nbformat": 4,
 "nbformat_minor": 2
}
