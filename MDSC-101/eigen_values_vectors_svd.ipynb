{
 "cells": [
  {
   "cell_type": "code",
   "execution_count": 1,
   "id": "8475a0d8",
   "metadata": {},
   "outputs": [],
   "source": [
    "# Importing numpy library\n",
    "import numpy as np"
   ]
  },
  {
   "cell_type": "code",
   "execution_count": 9,
   "id": "e95989c7",
   "metadata": {
    "scrolled": true
   },
   "outputs": [
    {
     "name": "stdout",
     "output_type": "stream",
     "text": [
      "Dim of matrix: 3\n",
      "\n",
      "---Matrix values---\n",
      "Please enter 0 0 th value: \n",
      "2\n",
      "Please enter 0 1 th value: \n",
      "5\n",
      "Please enter 0 2 th value: \n",
      "3\n",
      "Please enter 1 0 th value: \n",
      "4\n",
      "Please enter 1 1 th value: \n",
      "5\n",
      "Please enter 1 2 th value: \n",
      "6\n",
      "Please enter 2 0 th value: \n",
      "2\n",
      "Please enter 2 1 th value: \n",
      "4\n",
      "Please enter 2 2 th value: \n",
      "9\n",
      "\n",
      "The matrix is:  [[2, 5, 3], [4, 5, 6], [2, 4, 9]]\n",
      "\n",
      "Eigen values:  [14.06075946 -1.31234342  3.25158397]\n",
      "\n",
      "Eigen vectors:  [[-0.42203477 -0.8128918  -0.64222523]\n",
      " [-0.62265404  0.57857514 -0.50614507]\n",
      " [-0.65892989 -0.06676629  0.57564218]]\n"
     ]
    }
   ],
   "source": [
    "# function to create a new matrix\n",
    "def newmatrix(n):\n",
    "    Matrix = []\n",
    "    for i in range(0,n):\n",
    "        t = []\n",
    "        for j in range(0,n):\n",
    "            print('Please enter',i,j,'th value: ')\n",
    "            t.append(int(input()))\n",
    "        Matrix.append(t)\n",
    "    return Matrix\n",
    "\n",
    "# dimension(size) of the matrix\n",
    "n = int(input('Dim of matrix: '))\n",
    "print('\\n---Matrix values---')\n",
    "mat = newmatrix(n)\n",
    "\n",
    "print('\\nThe matrix is: ',mat) # displaying the matrix\n",
    "\n",
    "# converting the matrix(list) to numoy array      \n",
    "np_arr = np.array(mat)\n",
    "\n",
    "# computing the eigen values and eigen vectors\n",
    "e_val, e_vectors = np.linalg.eig(np_arr)\n",
    "\n",
    "# displaying the eigen values and eigen vectors\n",
    "print('\\nEigen values: ',e_val)\n",
    "print('\\nEigen vectors: ',e_vectors)"
   ]
  },
  {
   "cell_type": "code",
   "execution_count": 14,
   "id": "51f15015",
   "metadata": {},
   "outputs": [
    {
     "name": "stdout",
     "output_type": "stream",
     "text": [
      "Rows of Matrix: 2\n",
      "Cols of Matrix: 1\n",
      "Please enter 0 0 th value: \n",
      "3\n",
      "Please enter 1 0 th value: \n",
      "1\n",
      "\n",
      "U (left singular vectors):  [[ 0.9486833  -0.31622777]\n",
      " [ 0.31622777  0.9486833 ]]\n",
      "\n",
      "Sigma (singular values):  [[3.16227766]\n",
      " [0.        ]]\n",
      "\n",
      "V^T (transpose of right singular vectors):  [[1.]]\n"
     ]
    }
   ],
   "source": [
    "def newmatrix(r,c):\n",
    "    Matrix = []\n",
    "    for i in range(0,r):\n",
    "        t = []\n",
    "        for j in range(0,c):\n",
    "            print('Please enter',i,j,'th value: ')\n",
    "            t.append(int(input()))\n",
    "            Matrix.append(t)\n",
    "    return Matrix\n",
    "\n",
    "row = int(input('Rows of Matrix: '))\n",
    "col = int(input('Cols of Matrix: '))\n",
    "\n",
    "mat = newmatrix(row,col)\n",
    "\n",
    "# Converting the matrix into numpy array\n",
    "A = np.array(mat)\n",
    "\n",
    "# A*A' and A'*A\n",
    "v = np.dot(A.T, A)\n",
    "u = np.dot(A, A.T)\n",
    "\n",
    "# Computing eigenvalues and eigenvectors\n",
    "eval_v, evec_v = np.linalg.eig(v)\n",
    "eval_u, evec_u = np.linalg.eig(u)\n",
    "\n",
    "# Sorting eigenvalues and then adjusting eigenvectors\n",
    "sort_v = np.argsort(eval_v)[::-1]\n",
    "sort_u = np.argsort(eval_u)[::-1]\n",
    "\n",
    "eval_v = eval_v[sort_v]\n",
    "eval_u = eval_u[sort_u]\n",
    "\n",
    "evec_v = evec_v[:, sort_v]\n",
    "evec_u = evec_u[:, sort_u]\n",
    "\n",
    "# singular values\n",
    "singular_values = np.sqrt(eval_v)\n",
    "\n",
    "# Matrices U and V\n",
    "U = evec_u\n",
    "V = evec_v\n",
    "\n",
    "# Sigma\n",
    "m, n = A.shape\n",
    "Sigma = np.zeros((m, n))\n",
    "for i in range(min(m, n)):\n",
    "    Sigma[i, i] = singular_values[i]\n",
    "\n",
    "# SVD components\n",
    "print(\"\\nU (left singular vectors): \",U)\n",
    "print(\"\\nSigma (singular values): \",Sigma)\n",
    "print(\"\\nV^T (transpose of right singular vectors): \",V.T)"
   ]
  }
 ],
 "metadata": {
  "kernelspec": {
   "display_name": "Python 3 (ipykernel)",
   "language": "python",
   "name": "python3"
  },
  "language_info": {
   "codemirror_mode": {
    "name": "ipython",
    "version": 3
   },
   "file_extension": ".py",
   "mimetype": "text/x-python",
   "name": "python",
   "nbconvert_exporter": "python",
   "pygments_lexer": "ipython3",
   "version": "3.10.9"
  }
 },
 "nbformat": 4,
 "nbformat_minor": 5
}
